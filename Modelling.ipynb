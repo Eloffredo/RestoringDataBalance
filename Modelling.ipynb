{
 "cells": [
  {
   "cell_type": "code",
   "execution_count": 1,
   "id": "25c391d0-3f15-4399-b91d-9983bcc0c80a",
   "metadata": {},
   "outputs": [],
   "source": [
    "import numpy as np\n",
    "import pandas as pd\n",
    "from tqdm import tqdm\n",
    "import matplotlib.pyplot as plt\n",
    "import sys\n",
    "sys.path.append('./src/')\n",
    "import asymptotics, linear_models, dataset_utils, utils"
   ]
  },
  {
   "cell_type": "code",
   "execution_count": null,
   "id": "d7d2d155-32da-4d89-a4f4-47e13b9ae847",
   "metadata": {},
   "outputs": [],
   "source": []
  },
  {
   "cell_type": "markdown",
   "id": "de8ca9ed-2ab7-4926-aaff-0d484793f0e3",
   "metadata": {},
   "source": [
    "#### Example: numerics "
   ]
  },
  {
   "cell_type": "code",
   "execution_count": null,
   "id": "545b2d05-3e29-426c-a524-8a70c4264568",
   "metadata": {},
   "outputs": [],
   "source": [
    "L = 100\n",
    "mp = np.array([0.4 + 0.50/np.sqrt(L) for _ in range(L)]);\n",
    "mn = np.array([0.4 - 0.50/np.sqrt(L) for _ in range(L)]);\n",
    "N_values = [50,100,200,300,400,500,600,700,800,900,1000]\n",
    "repeats, Psize = 50, 200\n",
    "results = []\n",
    "\n",
    "for N_val in tqdm( N_values ):\n",
    "    \n",
    "    data = dataset_utils.Sample_dataset(L = L, m_positive = mp, m_negative = mn)\n",
    "    data.prepare_dataset(P_size = Psize, N_size = N_val )\n",
    "    \n",
    "    X_train, Y_train = data.train_dataset, data.train_labels\n",
    "    X_test, Y_test = data.test_dataset, data.test_labels\n",
    "    \n",
    "    tmp_acc_scores, tmp_e_scores = [], []\n",
    "    for _ in range(repeats):\n",
    "        mdl = linear_models.Model_Spins( L = L, X = X_train, Y = Y_train, u = L, margin= 0.5 )\n",
    "        opt_w = mdl.training()\n",
    "        \n",
    "        tmp_acc_scores.append( mdl.acc_scores(X_test, Y_test) )\n",
    "        tmp_e_scores.append( mdl.e_training() )\n",
    "        \n",
    "        del mdl\n",
    "    results.append([N_val, sum(tmp_acc_scores)/float(repeats), sum(tmp_e_scores)/float(repeats) ])\n",
    "        \n",
    "results = np.array(results)"
   ]
  },
  {
   "cell_type": "markdown",
   "id": "11d4dde5-4caa-48c8-be09-22576ef7f53c",
   "metadata": {},
   "source": [
    "#### Example: asymptotics"
   ]
  },
  {
   "cell_type": "code",
   "execution_count": null,
   "id": "dcd5b197-c952-4e29-8ffe-b135b693f0d1",
   "metadata": {},
   "outputs": [],
   "source": [
    "mC = 0.4*np.ones(L)\n",
    "δ = 1*np.ones(L)\n",
    "δ = np.sqrt(L)*δ/np.linalg.norm(δ)\n",
    "\n",
    "cov = np.diag(1-mC**2)\n",
    "solver = asymptotics.SP_equations(L = L, C = cov, d = δ, margin = 0.5)\n",
    "\n",
    "results_theory = [];\n",
    "Tstep = 150\n",
    "aNvals = np.linspace(0.2,10.0,num=Tstep)\n",
    "\n",
    "for aN in tqdm(aNvals):    \n",
    "    results_theory.append( solver.execute_saddpeqs_aN_cov(Psize/L,aN) )"
   ]
  },
  {
   "cell_type": "code",
   "execution_count": null,
   "id": "066849d7-e6c5-4e06-8b0b-7a887d636ca7",
   "metadata": {},
   "outputs": [],
   "source": [
    "values = np.array(results_theory).T\n",
    "bacc = []\n",
    "for val in values.T:\n",
    "    aP, aN, q, r, b, eT = val\n",
    "    metrics = asymptotics.Test_metrics(Q=q, R = r, B = b)\n",
    "    bacc.append (metrics.BA())"
   ]
  },
  {
   "cell_type": "code",
   "execution_count": null,
   "id": "56bdeaa3-2c0b-4910-95b1-c79e70201f0e",
   "metadata": {},
   "outputs": [],
   "source": []
  },
  {
   "cell_type": "code",
   "execution_count": null,
   "id": "65aacf92-a981-4a1d-a1d1-b2dad45adb27",
   "metadata": {},
   "outputs": [],
   "source": [
    "fig, ax = plt.subplots(figsize = (12,4), ncols=2)\n",
    "\n",
    "ax[0].plot(results[:,0]/(L), results[:,2]/(results[:,0] + Psize ) )\n",
    "ax[0].plot(values[1,:], values[-1,:] )\n",
    "\n",
    "ax[1].plot(results[:,0]/(L), results[:,1] )\n",
    "ax[1].plot(values[1,:], bacc )"
   ]
  },
  {
   "cell_type": "code",
   "execution_count": null,
   "id": "5213a15f-c540-46e3-b967-9ffd4dc1ce22",
   "metadata": {},
   "outputs": [],
   "source": []
  },
  {
   "cell_type": "markdown",
   "id": "4a90d4c4-3a66-4a29-8d42-c1c9b1c9b299",
   "metadata": {},
   "source": [
    "#### Multistate dataset "
   ]
  },
  {
   "cell_type": "code",
   "execution_count": 2,
   "id": "ddb30ed4-3886-41f1-90e1-b5478c682bbe",
   "metadata": {},
   "outputs": [],
   "source": [
    "PATH = './dataset/SaSc_dimer_bounded_mildbounded.csv'\n",
    "Potts = dataset_utils.Dataset_wPotts(PATH=PATH)\n",
    "df = pd.read_csv(PATH)\n",
    "\n",
    "Q, L = df.max()/max() +1, df.shape[1] -1\n",
    "\n",
    "Γ,Δ = Potts.buildGD() ### build Gamma, Delta matrices\n",
    "solver = asymptotics.SP_equations(L = L, mode= 'Potts', Q = Q, G = Γ, D= Δ, margin = 5.00)"
   ]
  },
  {
   "cell_type": "code",
   "execution_count": null,
   "id": "a4d4fd93-d90a-46f6-9a46-68dd4243e40b",
   "metadata": {},
   "outputs": [],
   "source": []
  }
 ],
 "metadata": {
  "kernelspec": {
   "display_name": "Python 3 (ipykernel)",
   "language": "python",
   "name": "python3"
  },
  "language_info": {
   "codemirror_mode": {
    "name": "ipython",
    "version": 3
   },
   "file_extension": ".py",
   "mimetype": "text/x-python",
   "name": "python",
   "nbconvert_exporter": "python",
   "pygments_lexer": "ipython3",
   "version": "3.9.7"
  }
 },
 "nbformat": 4,
 "nbformat_minor": 5
}
